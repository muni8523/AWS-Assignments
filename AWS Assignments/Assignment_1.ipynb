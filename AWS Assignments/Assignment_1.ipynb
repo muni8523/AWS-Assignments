{
 "cells": [
  {
   "cell_type": "code",
   "execution_count": 3,
   "id": "289cc4e7",
   "metadata": {},
   "outputs": [],
   "source": [
    "# Create Variables with any Object using Various Naming Conventions"
   ]
  },
  {
   "cell_type": "code",
   "execution_count": 4,
   "id": "71bb6c4e",
   "metadata": {},
   "outputs": [],
   "source": [
    "Rollno  = 29\n",
    "lists = [\"python, java, html, css\"]\n",
    "dictry = {\"name\":\"Ramu\", \"age\":21}\n",
    "text = \"This is the information about Ramu\"\n"
   ]
  },
  {
   "cell_type": "code",
   "execution_count": 6,
   "id": "122e71a4",
   "metadata": {},
   "outputs": [
    {
     "name": "stdout",
     "output_type": "stream",
     "text": [
      "{'name': 'Ramu', 'age': 21} \n",
      " ['python, java, html, css'] \n",
      " Value: 29 \n",
      " This is the information about Ramu\n"
     ]
    }
   ],
   "source": [
    "print(dictry, \"\\n\", lists, \"\\n\", \"Value:\", Rollno, \"\\n\", text) #printing the object variables"
   ]
  },
  {
   "cell_type": "code",
   "execution_count": 9,
   "id": "cc96c514",
   "metadata": {},
   "outputs": [
    {
     "name": "stdout",
     "output_type": "stream",
     "text": [
      "camelCaseVariable: This is a variable using camel case\n",
      "snake_case_variable: This is a variable using snake case\n",
      "PascalCaseVariable: This is a variable using Pascal case\n",
      "UPPER_CASE_VARIABLE: This is a variable using upper case\n"
     ]
    }
   ],
   "source": [
    "camelCaseVariable = \"This is a variable using camel case\"\n",
    "snake_case_variable = \"This is a variable using snake case\"\n",
    "PascalCaseVariable = \"This is a variable using Pascal case\"\n",
    "UPPER_CASE_VARIABLE = \"This is a variable using upper case\"\n",
    "\n",
    "print(\"camelCaseVariable:\", camelCaseVariable)\n",
    "print(\"snake_case_variable:\", snake_case_variable)     #printing the different types of the variable cases\n",
    "print(\"PascalCaseVariable:\", PascalCaseVariable)\n",
    "print(\"UPPER_CASE_VARIABLE:\", UPPER_CASE_VARIABLE)"
   ]
  },
  {
   "cell_type": "code",
   "execution_count": 8,
   "id": "44e79582",
   "metadata": {},
   "outputs": [
    {
     "name": "stdout",
     "output_type": "stream",
     "text": [
      "<class 'dict'>\n"
     ]
    }
   ],
   "source": [
    "print(type(dictry))"
   ]
  },
  {
   "cell_type": "code",
   "execution_count": 10,
   "id": "3e984079",
   "metadata": {},
   "outputs": [
    {
     "name": "stdout",
     "output_type": "stream",
     "text": [
      "vagrahB si sihT\n"
     ]
    }
   ],
   "source": [
    "sentence = \"This is Bhargav\"\n",
    "reverse_string = sentence[::-1]\n",
    "print(reverse_string)"
   ]
  },
  {
   "cell_type": "code",
   "execution_count": 11,
   "id": "e03214e9",
   "metadata": {},
   "outputs": [],
   "source": [
    "#Explore dir() & help()"
   ]
  },
  {
   "cell_type": "code",
   "execution_count": 12,
   "id": "bc9bbea8",
   "metadata": {},
   "outputs": [
    {
     "name": "stdout",
     "output_type": "stream",
     "text": [
      "['__add__', '__class__', '__contains__', '__delattr__', '__dir__', '__doc__', '__eq__', '__format__', '__ge__', '__getattribute__', '__getitem__', '__getnewargs__', '__getstate__', '__gt__', '__hash__', '__init__', '__init_subclass__', '__iter__', '__le__', '__len__', '__lt__', '__mod__', '__mul__', '__ne__', '__new__', '__reduce__', '__reduce_ex__', '__repr__', '__rmod__', '__rmul__', '__setattr__', '__sizeof__', '__str__', '__subclasshook__', 'capitalize', 'casefold', 'center', 'count', 'encode', 'endswith', 'expandtabs', 'find', 'format', 'format_map', 'index', 'isalnum', 'isalpha', 'isascii', 'isdecimal', 'isdigit', 'isidentifier', 'islower', 'isnumeric', 'isprintable', 'isspace', 'istitle', 'isupper', 'join', 'ljust', 'lower', 'lstrip', 'maketrans', 'partition', 'removeprefix', 'removesuffix', 'replace', 'rfind', 'rindex', 'rjust', 'rpartition', 'rsplit', 'rstrip', 'split', 'splitlines', 'startswith', 'strip', 'swapcase', 'title', 'translate', 'upper', 'zfill']\n"
     ]
    }
   ],
   "source": [
    "a = \"Attributes and methods of list object:\"\n",
    "print(dir(a))"
   ]
  },
  {
   "cell_type": "code",
   "execution_count": 13,
   "id": "317430c4",
   "metadata": {},
   "outputs": [
    {
     "name": "stdout",
     "output_type": "stream",
     "text": [
      "Help on class list in module builtins:\n",
      "\n",
      "class list(object)\n",
      " |  list(iterable=(), /)\n",
      " |  \n",
      " |  Built-in mutable sequence.\n",
      " |  \n",
      " |  If no argument is given, the constructor creates a new empty list.\n",
      " |  The argument must be an iterable if specified.\n",
      " |  \n",
      " |  Methods defined here:\n",
      " |  \n",
      " |  __add__(self, value, /)\n",
      " |      Return self+value.\n",
      " |  \n",
      " |  __contains__(self, key, /)\n",
      " |      Return key in self.\n",
      " |  \n",
      " |  __delitem__(self, key, /)\n",
      " |      Delete self[key].\n",
      " |  \n",
      " |  __eq__(self, value, /)\n",
      " |      Return self==value.\n",
      " |  \n",
      " |  __ge__(self, value, /)\n",
      " |      Return self>=value.\n",
      " |  \n",
      " |  __getattribute__(self, name, /)\n",
      " |      Return getattr(self, name).\n",
      " |  \n",
      " |  __getitem__(...)\n",
      " |      x.__getitem__(y) <==> x[y]\n",
      " |  \n",
      " |  __gt__(self, value, /)\n",
      " |      Return self>value.\n",
      " |  \n",
      " |  __iadd__(self, value, /)\n",
      " |      Implement self+=value.\n",
      " |  \n",
      " |  __imul__(self, value, /)\n",
      " |      Implement self*=value.\n",
      " |  \n",
      " |  __init__(self, /, *args, **kwargs)\n",
      " |      Initialize self.  See help(type(self)) for accurate signature.\n",
      " |  \n",
      " |  __iter__(self, /)\n",
      " |      Implement iter(self).\n",
      " |  \n",
      " |  __le__(self, value, /)\n",
      " |      Return self<=value.\n",
      " |  \n",
      " |  __len__(self, /)\n",
      " |      Return len(self).\n",
      " |  \n",
      " |  __lt__(self, value, /)\n",
      " |      Return self<value.\n",
      " |  \n",
      " |  __mul__(self, value, /)\n",
      " |      Return self*value.\n",
      " |  \n",
      " |  __ne__(self, value, /)\n",
      " |      Return self!=value.\n",
      " |  \n",
      " |  __repr__(self, /)\n",
      " |      Return repr(self).\n",
      " |  \n",
      " |  __reversed__(self, /)\n",
      " |      Return a reverse iterator over the list.\n",
      " |  \n",
      " |  __rmul__(self, value, /)\n",
      " |      Return value*self.\n",
      " |  \n",
      " |  __setitem__(self, key, value, /)\n",
      " |      Set self[key] to value.\n",
      " |  \n",
      " |  __sizeof__(self, /)\n",
      " |      Return the size of the list in memory, in bytes.\n",
      " |  \n",
      " |  append(self, object, /)\n",
      " |      Append object to the end of the list.\n",
      " |  \n",
      " |  clear(self, /)\n",
      " |      Remove all items from list.\n",
      " |  \n",
      " |  copy(self, /)\n",
      " |      Return a shallow copy of the list.\n",
      " |  \n",
      " |  count(self, value, /)\n",
      " |      Return number of occurrences of value.\n",
      " |  \n",
      " |  extend(self, iterable, /)\n",
      " |      Extend list by appending elements from the iterable.\n",
      " |  \n",
      " |  index(self, value, start=0, stop=9223372036854775807, /)\n",
      " |      Return first index of value.\n",
      " |      \n",
      " |      Raises ValueError if the value is not present.\n",
      " |  \n",
      " |  insert(self, index, object, /)\n",
      " |      Insert object before index.\n",
      " |  \n",
      " |  pop(self, index=-1, /)\n",
      " |      Remove and return item at index (default last).\n",
      " |      \n",
      " |      Raises IndexError if list is empty or index is out of range.\n",
      " |  \n",
      " |  remove(self, value, /)\n",
      " |      Remove first occurrence of value.\n",
      " |      \n",
      " |      Raises ValueError if the value is not present.\n",
      " |  \n",
      " |  reverse(self, /)\n",
      " |      Reverse *IN PLACE*.\n",
      " |  \n",
      " |  sort(self, /, *, key=None, reverse=False)\n",
      " |      Sort the list in ascending order and return None.\n",
      " |      \n",
      " |      The sort is in-place (i.e. the list itself is modified) and stable (i.e. the\n",
      " |      order of two equal elements is maintained).\n",
      " |      \n",
      " |      If a key function is given, apply it once to each list item and sort them,\n",
      " |      ascending or descending, according to their function values.\n",
      " |      \n",
      " |      The reverse flag can be set to sort in descending order.\n",
      " |  \n",
      " |  ----------------------------------------------------------------------\n",
      " |  Class methods defined here:\n",
      " |  \n",
      " |  __class_getitem__(...) from builtins.type\n",
      " |      See PEP 585\n",
      " |  \n",
      " |  ----------------------------------------------------------------------\n",
      " |  Static methods defined here:\n",
      " |  \n",
      " |  __new__(*args, **kwargs) from builtins.type\n",
      " |      Create and return a new object.  See help(type) for accurate signature.\n",
      " |  \n",
      " |  ----------------------------------------------------------------------\n",
      " |  Data and other attributes defined here:\n",
      " |  \n",
      " |  __hash__ = None\n",
      "\n"
     ]
    }
   ],
   "source": [
    "help(list)"
   ]
  },
  {
   "cell_type": "code",
   "execution_count": 14,
   "id": "c60bc8f6",
   "metadata": {},
   "outputs": [
    {
     "name": "stdout",
     "output_type": "stream",
     "text": [
      "Available attributes in the current scope:\n",
      "In\n",
      "Out\n",
      "PascalCaseVariable\n",
      "Rollno\n",
      "UPPER_CASE_VARIABLE\n",
      "_\n",
      "__\n",
      "___\n",
      "__builtin__\n",
      "__builtins__\n",
      "__doc__\n",
      "__loader__\n",
      "__name__\n",
      "__package__\n",
      "__spec__\n",
      "_dh\n",
      "_i\n",
      "_i1\n",
      "_i10\n",
      "_i11\n",
      "_i12\n",
      "_i13\n",
      "_i14\n",
      "_i2\n",
      "_i3\n",
      "_i4\n",
      "_i5\n",
      "_i6\n",
      "_i7\n",
      "_i8\n",
      "_i9\n",
      "_ih\n",
      "_ii\n",
      "_iii\n",
      "_oh\n",
      "a\n",
      "camelCaseVariable\n",
      "dictry\n",
      "exit\n",
      "get_ipython\n",
      "lists\n",
      "open\n",
      "quit\n",
      "reverse_string\n",
      "sentence\n",
      "snake_case_variable\n",
      "text\n"
     ]
    }
   ],
   "source": [
    "# List out available attributes using dir()\n",
    "attributes = dir()\n",
    "print(\"Available attributes in the current scope:\")\n",
    "for attribute in attributes:\n",
    "    print(attribute)"
   ]
  },
  {
   "cell_type": "code",
   "execution_count": 15,
   "id": "8f2a33f1",
   "metadata": {},
   "outputs": [],
   "source": [
    "#Experiment those attributes using help()"
   ]
  },
  {
   "cell_type": "code",
   "execution_count": 16,
   "id": "64e58ed0",
   "metadata": {},
   "outputs": [
    {
     "name": "stdout",
     "output_type": "stream",
     "text": [
      "['__add__', '__class__', '__contains__', '__delattr__', '__dir__', '__doc__', '__eq__', '__format__', '__ge__', '__getattribute__', '__getitem__', '__getnewargs__', '__getstate__', '__gt__', '__hash__', '__init__', '__init_subclass__', '__iter__', '__le__', '__len__', '__lt__', '__mod__', '__mul__', '__ne__', '__new__', '__reduce__', '__reduce_ex__', '__repr__', '__rmod__', '__rmul__', '__setattr__', '__sizeof__', '__str__', '__subclasshook__', 'capitalize', 'casefold', 'center', 'count', 'encode', 'endswith', 'expandtabs', 'find', 'format', 'format_map', 'index', 'isalnum', 'isalpha', 'isascii', 'isdecimal', 'isdigit', 'isidentifier', 'islower', 'isnumeric', 'isprintable', 'isspace', 'istitle', 'isupper', 'join', 'ljust', 'lower', 'lstrip', 'maketrans', 'partition', 'removeprefix', 'removesuffix', 'replace', 'rfind', 'rindex', 'rjust', 'rpartition', 'rsplit', 'rstrip', 'split', 'splitlines', 'startswith', 'strip', 'swapcase', 'title', 'translate', 'upper', 'zfill']\n",
      "\n",
      "\n",
      "<method-wrapper '__add__' of str object at 0x000002277296DEF0>\n"
     ]
    }
   ],
   "source": [
    "print(dir(a))\n",
    "print(\"\\n\")\n",
    "print(a.__add__)"
   ]
  },
  {
   "cell_type": "code",
   "execution_count": null,
   "id": "d09332cf",
   "metadata": {},
   "outputs": [],
   "source": []
  }
 ],
 "metadata": {
  "kernelspec": {
   "display_name": "Python 3 (ipykernel)",
   "language": "python",
   "name": "python3"
  },
  "language_info": {
   "codemirror_mode": {
    "name": "ipython",
    "version": 3
   },
   "file_extension": ".py",
   "mimetype": "text/x-python",
   "name": "python",
   "nbconvert_exporter": "python",
   "pygments_lexer": "ipython3",
   "version": "3.11.4"
  }
 },
 "nbformat": 4,
 "nbformat_minor": 5
}
