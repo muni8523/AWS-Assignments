{
 "cells": [
  {
   "cell_type": "code",
   "execution_count": 1,
   "id": "b76a9286",
   "metadata": {},
   "outputs": [],
   "source": [
    "#Write Examples code for concatenation"
   ]
  },
  {
   "cell_type": "code",
   "execution_count": 2,
   "id": "b3fc71d0",
   "metadata": {},
   "outputs": [
    {
     "name": "stdout",
     "output_type": "stream",
     "text": [
      "Concatenated string: Hello World\n"
     ]
    }
   ],
   "source": [
    "str1 = \"Hello\"\n",
    "str2 = \"World\"\n",
    "concatenated_string = str1 + \" \" + str2\n",
    "print(\"Concatenated string:\", concatenated_string)"
   ]
  },
  {
   "cell_type": "code",
   "execution_count": 3,
   "id": "4a7bbae5",
   "metadata": {},
   "outputs": [
    {
     "name": "stdout",
     "output_type": "stream",
     "text": [
      "Formatted string (using % operator): Name: Ramu, Age: 21\n"
     ]
    }
   ],
   "source": [
    "# Using the % operator\n",
    "name = \"Ramu\"\n",
    "age = 21\n",
    "formatted_string = \"Name: %s, Age: %d\" % (name, age)\n",
    "print(\"Formatted string (using % operator):\", formatted_string)"
   ]
  },
  {
   "cell_type": "code",
   "execution_count": 4,
   "id": "d46f3211",
   "metadata": {},
   "outputs": [
    {
     "name": "stdout",
     "output_type": "stream",
     "text": [
      "Formatted string (using format() method): Name: Ramu, Age: 21\n"
     ]
    }
   ],
   "source": [
    "# Using the format() method\n",
    "formatted_string = \"Name: {}, Age: {}\".format(name, age)\n",
    "print(\"Formatted string (using format() method):\", formatted_string)"
   ]
  },
  {
   "cell_type": "code",
   "execution_count": 5,
   "id": "17dd816b",
   "metadata": {},
   "outputs": [
    {
     "name": "stdout",
     "output_type": "stream",
     "text": [
      "Formatted string (using f-strings): Name: Ramu, Age: 21\n"
     ]
    }
   ],
   "source": [
    "# Using f-strings (formatted string literals)\n",
    "formatted_string = f\"Name: {name}, Age: {age}\"\n",
    "print(\"Formatted string (using f-strings):\", formatted_string)"
   ]
  },
  {
   "cell_type": "code",
   "execution_count": 6,
   "id": "7cd1da4e",
   "metadata": {},
   "outputs": [
    {
     "name": "stdout",
     "output_type": "stream",
     "text": [
      "Formatted string (using template strings): Name:Ramu, Age: 21\n"
     ]
    }
   ],
   "source": [
    "# Using template strings\n",
    "from string import Template\n",
    "template = Template(\"Name:Ramu, Age: 21\")\n",
    "formatted_string = template.substitute(name=name, age=age)\n",
    "print(\"Formatted string (using template strings):\", formatted_string)"
   ]
  },
  {
   "cell_type": "code",
   "execution_count": 7,
   "id": "8815f6d4",
   "metadata": {},
   "outputs": [],
   "source": [
    "#Write example for each arithmetic operators"
   ]
  },
  {
   "cell_type": "code",
   "execution_count": 11,
   "id": "c0f059b6",
   "metadata": {},
   "outputs": [
    {
     "name": "stdout",
     "output_type": "stream",
     "text": [
      "Addition : 10\n",
      "Subtraction : 10\n",
      "Multiplication : 20\n",
      "Division : 10.0\n",
      "Exponentiation : 25\n",
      "Modulus : 3\n",
      "After subtraction assignment: 10\n",
      "After multiplication assignment: 10\n",
      "After division assignment: 6.0\n"
     ]
    }
   ],
   "source": [
    "# Addition\n",
    "Addition = 5 + 5\n",
    "print(\"Addition :\", Addition)\n",
    "\n",
    "# Subtraction\n",
    "Subtraction = 12 - 2\n",
    "print(\"Subtraction :\", Subtraction)\n",
    "\n",
    "# Multiplication\n",
    "Multiplication = 4 * 5\n",
    "print(\"Multiplication :\", Multiplication)\n",
    "\n",
    "# Division\n",
    "Division = 20 / 2\n",
    "print(\"Division :\", Division)\n",
    "\n",
    "# Exponentiation\n",
    "Exponentiation = 5 ** 2\n",
    "print(\"Exponentiation :\", Exponentiation)\n",
    "\n",
    "# Modulus\n",
    "Modulus = 15 % 4\n",
    "print(\"Modulus :\", Modulus)\n",
    "# Example for -= (Subtraction assignment)\n",
    "x = 13\n",
    "x -= 3  # Equivalent to x = x - 3\n",
    "print(\"After subtraction assignment:\", x)\n",
    "\n",
    "# Example for *= (Multiplication assignment)\n",
    "y = 5\n",
    "y *= 2  # Equivalent to y = y * 2\n",
    "print(\"After multiplication assignment:\", y)\n",
    "\n",
    "# Example for /= (Division assignment)\n",
    "z = 24\n",
    "z /= 4  # Equivalent to z = z / 4\n",
    "print(\"After division assignment:\", z)"
   ]
  },
  {
   "cell_type": "code",
   "execution_count": null,
   "id": "f5702916",
   "metadata": {},
   "outputs": [],
   "source": []
  }
 ],
 "metadata": {
  "kernelspec": {
   "display_name": "Python 3 (ipykernel)",
   "language": "python",
   "name": "python3"
  },
  "language_info": {
   "codemirror_mode": {
    "name": "ipython",
    "version": 3
   },
   "file_extension": ".py",
   "mimetype": "text/x-python",
   "name": "python",
   "nbconvert_exporter": "python",
   "pygments_lexer": "ipython3",
   "version": "3.11.4"
  }
 },
 "nbformat": 4,
 "nbformat_minor": 5
}
