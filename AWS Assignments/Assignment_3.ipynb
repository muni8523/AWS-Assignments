{
 "cells": [
  {
   "cell_type": "code",
   "execution_count": 1,
   "id": "1008de5f",
   "metadata": {},
   "outputs": [],
   "source": [
    "#Write Examples code for concatenation"
   ]
  },
  {
   "cell_type": "code",
   "execution_count": 2,
   "id": "70886ed0",
   "metadata": {},
   "outputs": [
    {
     "name": "stdout",
     "output_type": "stream",
     "text": [
      "Concatenated string: Hello World !\n"
     ]
    }
   ],
   "source": [
    "str1 = \"Hello\"\n",
    "str2 = \"World !\"\n",
    "concatenated_string = str1 + \" \" + str2\n",
    "print(\"Concatenated string:\", concatenated_string)"
   ]
  },
  {
   "cell_type": "code",
   "execution_count": 3,
   "id": "38d9a46c",
   "metadata": {},
   "outputs": [
    {
     "name": "stdout",
     "output_type": "stream",
     "text": [
      "Formatted string: Name: Ramu, Age: 21\n"
     ]
    }
   ],
   "source": [
    "name = \"Ramu\"\n",
    "age = 21\n",
    "formatted_string = \"Name: %s, Age: %d\" % (name, age)\n",
    "print(\"Formatted string:\", formatted_string)"
   ]
  },
  {
   "cell_type": "code",
   "execution_count": 4,
   "id": "3f4e439c",
   "metadata": {},
   "outputs": [],
   "source": [
    "#Go Through Reference site and apply various options into formatting techniques"
   ]
  },
  {
   "cell_type": "code",
   "execution_count": 5,
   "id": "a217a109",
   "metadata": {},
   "outputs": [
    {
     "name": "stdout",
     "output_type": "stream",
     "text": [
      "Formatted string: Name: Ramu, Age: 21\n"
     ]
    }
   ],
   "source": [
    "from string import Template\n",
    "template = Template(\"Name: Ramu, Age: 21\")\n",
    "formatted_string = template.substitute(name=name, age=age)\n",
    "print(\"Formatted string:\", formatted_string)"
   ]
  },
  {
   "cell_type": "code",
   "execution_count": 6,
   "id": "897e8cfc",
   "metadata": {},
   "outputs": [
    {
     "name": "stdout",
     "output_type": "stream",
     "text": [
      "Formatted string: Name: Ramu, Age: 21\n"
     ]
    }
   ],
   "source": [
    "\n",
    "formatted_string = \"Name: {}, Age: {}\".format(name, age)\n",
    "print(\"Formatted string:\", formatted_string)"
   ]
  },
  {
   "cell_type": "code",
   "execution_count": 7,
   "id": "76ea9a84",
   "metadata": {},
   "outputs": [],
   "source": [
    "#Write example for each arithmetic operators"
   ]
  },
  {
   "cell_type": "code",
   "execution_count": 18,
   "id": "c513c4cb",
   "metadata": {},
   "outputs": [
    {
     "name": "stdout",
     "output_type": "stream",
     "text": [
      "Addition : 10\n",
      "Substraction : 10\n",
      "Multiplication : 10\n",
      "Division result 10.0\n",
      "Exponential result: 25\n",
      "Modulus result: 2\n"
     ]
    }
   ],
   "source": [
    "#Addition\n",
    "Addition = 1 + 9\n",
    "print(\"Addition :\", Addition)\n",
    "\n",
    "#Substraction\n",
    "Substraction = 13 - 3\n",
    "print(\"Substraction :\", Substraction)\n",
    "\n",
    "#Multiplication\n",
    "Multiplication = 5 * 2\n",
    "print(\"Multiplication :\", Multiplication)\n",
    "\n",
    "#Division\n",
    "Division = 50/5\n",
    "print(\"Division result\", Division)\n",
    "\n",
    "#Exponential\n",
    "Exponential = 5 ** 2\n",
    "print(\"Exponential result:\", Exponential)\n",
    "\n",
    "#Modulus\n",
    "Modulus = 24 % 11\n",
    "print(\"Modulus result:\", Modulus)"
   ]
  },
  {
   "cell_type": "code",
   "execution_count": null,
   "id": "a8a03bec",
   "metadata": {},
   "outputs": [],
   "source": [
    "#Write Example for assignment operators (except: = & +=)"
   ]
  },
  {
   "cell_type": "code",
   "execution_count": 20,
   "id": "cbb74b5a",
   "metadata": {},
   "outputs": [
    {
     "name": "stdout",
     "output_type": "stream",
     "text": [
      "After subtraction assignment: 4\n"
     ]
    }
   ],
   "source": [
    "x = 7\n",
    "x -= 3\n",
    "print(\"After subtraction assignment:\", x)"
   ]
  },
  {
   "cell_type": "code",
   "execution_count": 21,
   "id": "1f02f899",
   "metadata": {},
   "outputs": [
    {
     "name": "stdout",
     "output_type": "stream",
     "text": [
      "After multiplication assignment: 18\n"
     ]
    }
   ],
   "source": [
    "y = 9\n",
    "y *= 2\n",
    "print(\"After multiplication assignment:\", y)"
   ]
  },
  {
   "cell_type": "code",
   "execution_count": 22,
   "id": "aa66b552",
   "metadata": {},
   "outputs": [
    {
     "name": "stdout",
     "output_type": "stream",
     "text": [
      "After division assignment: 4.0\n"
     ]
    }
   ],
   "source": [
    "z = 16\n",
    "z /= 4\n",
    "print(\"After division assignment:\", z)"
   ]
  },
  {
   "cell_type": "code",
   "execution_count": null,
   "id": "0a671d5c",
   "metadata": {},
   "outputs": [],
   "source": []
  }
 ],
 "metadata": {
  "kernelspec": {
   "display_name": "Python 3 (ipykernel)",
   "language": "python",
   "name": "python3"
  },
  "language_info": {
   "codemirror_mode": {
    "name": "ipython",
    "version": 3
   },
   "file_extension": ".py",
   "mimetype": "text/x-python",
   "name": "python",
   "nbconvert_exporter": "python",
   "pygments_lexer": "ipython3",
   "version": "3.11.4"
  }
 },
 "nbformat": 4,
 "nbformat_minor": 5
}
