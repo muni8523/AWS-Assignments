{
 "cells": [
  {
   "cell_type": "code",
   "execution_count": 2,
   "id": "27f19164",
   "metadata": {},
   "outputs": [],
   "source": [
    "#Refer capitalize function in shared program files, replicate .upper() and .lower() functions"
   ]
  },
  {
   "cell_type": "code",
   "execution_count": 3,
   "id": "bf6febfd",
   "metadata": {},
   "outputs": [
    {
     "name": "stdout",
     "output_type": "stream",
     "text": [
      "Capitalize function: This is bhargav.\n",
      "Replicated .upper() function: THIS IS BHARGAV.\n",
      "Replicated .lower() function: this is bhargav.\n"
     ]
    }
   ],
   "source": [
    "string = \"This is Bhargav.\"\n",
    "capitalize_function = string.capitalize()\n",
    "upper_function = string.upper()\n",
    "lower_function = string.lower()\n",
    "print(\"Capitalize function:\", capitalize_function)\n",
    "print(\"Replicated .upper() function:\", upper_function)\n",
    "print(\"Replicated .lower() function:\", lower_function)"
   ]
  },
  {
   "cell_type": "code",
   "execution_count": 4,
   "id": "064ce62b",
   "metadata": {},
   "outputs": [],
   "source": [
    "#Create a odd sequence from given sequence [1,2,34,65,1,2,65,66,44,33,22,87,123412,09,78,76]"
   ]
  },
  {
   "cell_type": "code",
   "execution_count": 5,
   "id": "e054cbea",
   "metadata": {},
   "outputs": [
    {
     "name": "stdout",
     "output_type": "stream",
     "text": [
      "Odd sequence: [1, 65, 1, 65, 33, 87, 9]\n"
     ]
    }
   ],
   "source": [
    "given_sequence = [1,2,34,65,1,2,65,66,44,33,22,87,123412,9,78,76]\n",
    "odd_sequence = [num for num in given_sequence if num % 2 != 0]\n",
    "print(\"Odd sequence:\", odd_sequence)"
   ]
  },
  {
   "cell_type": "code",
   "execution_count": 6,
   "id": "dca18ccf",
   "metadata": {},
   "outputs": [],
   "source": [
    "#{‘apple’: 10, ‘mango’: 20, ‘pineapple’: 25, ‘orange’: 30, ‘strawberry’: 50, ‘jackfruit’: 10}\n",
    "#Generate a comprehension fruits which has more than 20 "
   ]
  },
  {
   "cell_type": "code",
   "execution_count": 7,
   "id": "85a5bf4e",
   "metadata": {},
   "outputs": [
    {
     "name": "stdout",
     "output_type": "stream",
     "text": [
      "Fruits with values more than 20: {'pineapple': 25, 'orange': 30, 'strawberry': 50}\n"
     ]
    }
   ],
   "source": [
    "fruits = {'apple': 10, 'mango': 20, 'pineapple': 25, 'orange': 30, 'strawberry': 50, 'jackfruit': 10}\n",
    "\n",
    "fruits_more_than_20 = {key: value for key, value in fruits.items() if value > 20}\n",
    "print(\"Fruits with values more than 20:\", fruits_more_than_20)"
   ]
  },
  {
   "cell_type": "code",
   "execution_count": null,
   "id": "b28f6cf9",
   "metadata": {},
   "outputs": [],
   "source": []
  }
 ],
 "metadata": {
  "kernelspec": {
   "display_name": "Python 3 (ipykernel)",
   "language": "python",
   "name": "python3"
  },
  "language_info": {
   "codemirror_mode": {
    "name": "ipython",
    "version": 3
   },
   "file_extension": ".py",
   "mimetype": "text/x-python",
   "name": "python",
   "nbconvert_exporter": "python",
   "pygments_lexer": "ipython3",
   "version": "3.11.4"
  }
 },
 "nbformat": 4,
 "nbformat_minor": 5
}
